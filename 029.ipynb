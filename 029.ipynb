{
  "nbformat": 4,
  "nbformat_minor": 0,
  "metadata": {
    "colab": {
      "provenance": [],
      "authorship_tag": "ABX9TyO0/1166iYylaYION2w2iik",
      "include_colab_link": true
    },
    "kernelspec": {
      "name": "python3",
      "display_name": "Python 3"
    },
    "language_info": {
      "name": "python"
    }
  },
  "cells": [
    {
      "cell_type": "markdown",
      "metadata": {
        "id": "view-in-github",
        "colab_type": "text"
      },
      "source": [
        "<a href=\"https://colab.research.google.com/github/jyw0824/Homework/blob/main/029.ipynb\" target=\"_parent\"><img src=\"https://colab.research.google.com/assets/colab-badge.svg\" alt=\"Open In Colab\"/></a>"
      ]
    },
    {
      "cell_type": "code",
      "source": [
        "x = 11113\n",
        "y = 23\n",
        "ret1 = x // y\n",
        "ret2 = x % y\n",
        "print(f'{x}을(를){y}(으)로 나누면 몫이{ret1},나머지가{ret2}입니다.')"
      ],
      "metadata": {
        "colab": {
          "base_uri": "https://localhost:8080/"
        },
        "id": "WiV8-D04hEyP",
        "outputId": "c3029157-55d2-434a-e30f-157479d18be2"
      },
      "execution_count": null,
      "outputs": [
        {
          "output_type": "stream",
          "name": "stdout",
          "text": [
            "11113을(를)23(으)로 나누면 몫이483,나머지가4입니다.\n"
          ]
        }
      ]
    },
    {
      "cell_type": "code",
      "source": [
        "x = 11113\n",
        "y = 23\n",
        "ret1,ret2 = divmod(x,y)\n",
        "print(f'{x}을(를){y}(으)로 나누면 몫이{ret1},나머지가{ret2}입니다.')\n"
      ],
      "metadata": {
        "colab": {
          "base_uri": "https://localhost:8080/"
        },
        "id": "yhjNq74yhc9S",
        "outputId": "3c219a44-3850-4304-e887-a66b1b76aeb7"
      },
      "execution_count": null,
      "outputs": [
        {
          "output_type": "stream",
          "name": "stdout",
          "text": [
            "11113을(를)23(으)로 나누면 몫이483,나머지가4입니다.\n"
          ]
        }
      ]
    }
  ]
}