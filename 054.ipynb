{
  "nbformat": 4,
  "nbformat_minor": 0,
  "metadata": {
    "colab": {
      "provenance": [],
      "authorship_tag": "ABX9TyPhT+gYhpYhcMomdNEFROcJ",
      "include_colab_link": true
    },
    "kernelspec": {
      "name": "python3",
      "display_name": "Python 3"
    },
    "language_info": {
      "name": "python"
    }
  },
  "cells": [
    {
      "cell_type": "markdown",
      "metadata": {
        "id": "view-in-github",
        "colab_type": "text"
      },
      "source": [
        "<a href=\"https://colab.research.google.com/github/jyw0824/Homework/blob/main/054.ipynb\" target=\"_parent\"><img src=\"https://colab.research.google.com/assets/colab-badge.svg\" alt=\"Open In Colab\"/></a>"
      ]
    },
    {
      "cell_type": "code",
      "source": [
        "solarsys = ['태양','수성','금성','지구','화성','목성','토성','천왕성','해왕성']\n",
        "for i, body in enumerate(solarsys):\n",
        "    print(f'태양계의{i}번째 천체:{body}')"
      ],
      "metadata": {
        "colab": {
          "base_uri": "https://localhost:8080/"
        },
        "id": "UMhvL0vB76H1",
        "outputId": "8d421f4f-4230-4ae6-d849-8228b51b6416"
      },
      "execution_count": null,
      "outputs": [
        {
          "output_type": "stream",
          "name": "stdout",
          "text": [
            "태양계의0번째 천체:태양\n",
            "태양계의1번째 천체:수성\n",
            "태양계의2번째 천체:금성\n",
            "태양계의3번째 천체:지구\n",
            "태양계의4번째 천체:화성\n",
            "태양계의5번째 천체:목성\n",
            "태양계의6번째 천체:토성\n",
            "태양계의7번째 천체:천왕성\n",
            "태양계의8번째 천체:해왕성\n"
          ]
        }
      ]
    },
    {
      "cell_type": "code",
      "source": [
        "seasons = ['봄','여름','가을','겨울']\n",
        "print(list(enumerate(seasons,start=1)))"
      ],
      "metadata": {
        "colab": {
          "base_uri": "https://localhost:8080/"
        },
        "id": "hKrQpNgg76Lh",
        "outputId": "8243029d-645f-4956-cc33-4b807cdc57d2"
      },
      "execution_count": null,
      "outputs": [
        {
          "output_type": "stream",
          "name": "stdout",
          "text": [
            "[(1, '봄'), (2, '여름'), (3, '가을'), (4, '겨울')]\n"
          ]
        }
      ]
    },
    {
      "cell_type": "code",
      "source": [
        "def myEnumrate(iterable,start=0):\n",
        "  n = start\n",
        "  for item in iterable:\n",
        "    yield(n,item)\n",
        "    n += 1"
      ],
      "metadata": {
        "id": "6PvfP_1T76Pd"
      },
      "execution_count": null,
      "outputs": []
    },
    {
      "cell_type": "code",
      "source": [
        "print(list(myEnumrate(seasons,start=1)))"
      ],
      "metadata": {
        "colab": {
          "base_uri": "https://localhost:8080/"
        },
        "id": "KoJ2mH2r76S5",
        "outputId": "7a693069-bf42-42e2-e851-e20b244c5b7d"
      },
      "execution_count": null,
      "outputs": [
        {
          "output_type": "stream",
          "name": "stdout",
          "text": [
            "[(1, '봄'), (2, '여름'), (3, '가을'), (4, '겨울')]\n"
          ]
        }
      ]
    }
  ]
}