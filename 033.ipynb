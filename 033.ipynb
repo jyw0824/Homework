{
  "nbformat": 4,
  "nbformat_minor": 0,
  "metadata": {
    "colab": {
      "provenance": [],
      "authorship_tag": "ABX9TyNsdEG6NxzQ42g8SmKB1/rS",
      "include_colab_link": true
    },
    "kernelspec": {
      "name": "python3",
      "display_name": "Python 3"
    },
    "language_info": {
      "name": "python"
    }
  },
  "cells": [
    {
      "cell_type": "markdown",
      "metadata": {
        "id": "view-in-github",
        "colab_type": "text"
      },
      "source": [
        "<a href=\"https://colab.research.google.com/github/jyw0824/Homework/blob/main/033.ipynb\" target=\"_parent\"><img src=\"https://colab.research.google.com/assets/colab-badge.svg\" alt=\"Open In Colab\"/></a>"
      ]
    },
    {
      "cell_type": "code",
      "source": [
        "b1 = bin(97)\n",
        "b2 = bin(98)\n",
        "print(b1)\n",
        "print(b2)"
      ],
      "metadata": {
        "colab": {
          "base_uri": "https://localhost:8080/"
        },
        "id": "CIdeybVlodhc",
        "outputId": "4fbf275d-2cb8-497b-f906-c93ef008ef41"
      },
      "execution_count": null,
      "outputs": [
        {
          "output_type": "stream",
          "name": "stdout",
          "text": [
            "0b1100001\n",
            "0b1100010\n"
          ]
        }
      ]
    },
    {
      "cell_type": "code",
      "source": [
        "print(b1+b2)"
      ],
      "metadata": {
        "colab": {
          "base_uri": "https://localhost:8080/"
        },
        "id": "2B0z5o1vonwP",
        "outputId": "06b9b7a1-7c54-4aac-cd30-636ac8380912"
      },
      "execution_count": null,
      "outputs": [
        {
          "output_type": "stream",
          "name": "stdout",
          "text": [
            "0b11000010b1100010\n"
          ]
        }
      ]
    },
    {
      "cell_type": "code",
      "source": [
        "binStr1 = '0b1011'\n",
        "binStr2 = '0b1001'\n",
        "int1 = int(binStr1, base=2)\n",
        "int2 = int(binStr2, base=2)\n",
        "binAnswer = bin(int1 + int2)\n",
        "print(f'{binStr1}+{binStr2}={binAnswer}')"
      ],
      "metadata": {
        "colab": {
          "base_uri": "https://localhost:8080/"
        },
        "id": "-R1utwPKorV7",
        "outputId": "30b97e7f-5422-4861-bcd4-898d47ec58bb"
      },
      "execution_count": null,
      "outputs": [
        {
          "output_type": "stream",
          "name": "stdout",
          "text": [
            "0b1011+0b1001=0b10100\n"
          ]
        }
      ]
    }
  ]
}