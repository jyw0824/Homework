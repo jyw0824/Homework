{
  "nbformat": 4,
  "nbformat_minor": 0,
  "metadata": {
    "colab": {
      "provenance": [],
      "authorship_tag": "ABX9TyPPQpC9g/b2lGYo4SU9dfyq",
      "include_colab_link": true
    },
    "kernelspec": {
      "name": "python3",
      "display_name": "Python 3"
    },
    "language_info": {
      "name": "python"
    }
  },
  "cells": [
    {
      "cell_type": "markdown",
      "metadata": {
        "id": "view-in-github",
        "colab_type": "text"
      },
      "source": [
        "<a href=\"https://colab.research.google.com/github/jyw0824/Homework/blob/main/010.ipynb\" target=\"_parent\"><img src=\"https://colab.research.google.com/assets/colab-badge.svg\" alt=\"Open In Colab\"/></a>"
      ]
    },
    {
      "cell_type": "code",
      "execution_count": null,
      "metadata": {
        "id": "Jys9Gv2EIfQP"
      },
      "outputs": [],
      "source": [
        "name = '홍길동'\n",
        "age = 17\n",
        "weight = 70.7\n",
        "is_bdman = False"
      ]
    },
    {
      "cell_type": "code",
      "source": [
        "name:str = '홍길동'\n",
        "age: int = 17\n",
        "weight: float = 70.7\n",
        "is_bdman: bool = False"
      ],
      "metadata": {
        "id": "ZktmqfFJJUzR"
      },
      "execution_count": null,
      "outputs": []
    },
    {
      "cell_type": "code",
      "source": [
        "booklist: list[str] = ['삼국지','수호지','초한지']"
      ],
      "metadata": {
        "id": "7As9TunhJmOd"
      },
      "execution_count": null,
      "outputs": []
    },
    {
      "cell_type": "code",
      "source": [
        "island: tuple[str,float,float] = ('독도',131.52,37.14)"
      ],
      "metadata": {
        "id": "hKcqFF1MJ0fR"
      },
      "execution_count": null,
      "outputs": []
    },
    {
      "cell_type": "code",
      "source": [
        "top4_familyname:dict[str,int] = {'김씨':123456,'나씨':345811,'박씨':963123,'이씨':865909,}"
      ],
      "metadata": {
        "id": "-GnkkW_pKA62"
      },
      "execution_count": null,
      "outputs": []
    },
    {
      "cell_type": "code",
      "source": [
        "fruits:set[str]={'사과','배','수박','참외','딸기'}"
      ],
      "metadata": {
        "id": "b6AYTYUXKY_3"
      },
      "execution_count": null,
      "outputs": []
    },
    {
      "cell_type": "code",
      "source": [
        "print(__annotations__)"
      ],
      "metadata": {
        "colab": {
          "base_uri": "https://localhost:8080/"
        },
        "id": "3ZfBWPzHKmQN",
        "outputId": "d2828fd7-aed4-4ac3-e35c-73a7e466d20b"
      },
      "execution_count": null,
      "outputs": [
        {
          "output_type": "stream",
          "name": "stdout",
          "text": [
            "{'name': <class 'str'>, 'age': <class 'int'>, 'weight': <class 'float'>, 'is_bdman': <class 'bool'>, 'booklist': list[str], 'island': tuple[str, float, float], 'top4_familyname': dict[str, int], 'fruits': set[str]}\n"
          ]
        }
      ]
    },
    {
      "cell_type": "code",
      "source": [
        "fruits:set[str] = {'사과','배','수박','참외','딸기'}\n",
        "fruits = {1,2,3,4,5}\n",
        "print(fruits)"
      ],
      "metadata": {
        "colab": {
          "base_uri": "https://localhost:8080/"
        },
        "id": "TZ4zqCbuKqC4",
        "outputId": "384ae9af-cbac-4398-be43-ba8563d108b6"
      },
      "execution_count": null,
      "outputs": [
        {
          "output_type": "stream",
          "name": "stdout",
          "text": [
            "{1, 2, 3, 4, 5}\n"
          ]
        }
      ]
    }
  ]
}