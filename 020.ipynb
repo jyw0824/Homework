{
  "nbformat": 4,
  "nbformat_minor": 0,
  "metadata": {
    "colab": {
      "provenance": [],
      "authorship_tag": "ABX9TyNCq9JLr2/HtZ9OEk+QpGQX",
      "include_colab_link": true
    },
    "kernelspec": {
      "name": "python3",
      "display_name": "Python 3"
    },
    "language_info": {
      "name": "python"
    }
  },
  "cells": [
    {
      "cell_type": "markdown",
      "metadata": {
        "id": "view-in-github",
        "colab_type": "text"
      },
      "source": [
        "<a href=\"https://colab.research.google.com/github/jyw0824/Homework/blob/main/020.ipynb\" target=\"_parent\"><img src=\"https://colab.research.google.com/assets/colab-badge.svg\" alt=\"Open In Colab\"/></a>"
      ]
    },
    {
      "cell_type": "code",
      "source": [
        "http_status = 400\n",
        "match http_status:\n",
        "  case 400:\n",
        "    print(\"Bad Request\")\n",
        "  case 401:\n",
        "    print(\"Unauthorized\")\n",
        "  case 403:\n",
        "    print(\"Forbidden\")\n",
        "  case 404:\n",
        "    print(\"Not Found\")\n",
        "  case _:\n",
        "    print('기타 인터넷 문제로 뭔가 잘못됨')"
      ],
      "metadata": {
        "colab": {
          "base_uri": "https://localhost:8080/"
        },
        "id": "E56eEGvXTXQi",
        "outputId": "b9650ba4-13ef-4a12-9f88-8498474a3ec4"
      },
      "execution_count": null,
      "outputs": [
        {
          "output_type": "stream",
          "name": "stdout",
          "text": [
            "Bad Request\n"
          ]
        }
      ]
    },
    {
      "cell_type": "code",
      "source": [
        "http_status = 302\n",
        "match http_status:\n",
        "  case 200 | 202 | 203:\n",
        "    print('success')\n",
        "  case 301 | 302 | 303:\n",
        "    print('Redirection')\n",
        "  case 400 | 401 | 403 | 404:\n",
        "    print('Client Error')\n",
        "  case _:\n",
        "    print('기타HTTP 응답 코드')\n"
      ],
      "metadata": {
        "colab": {
          "base_uri": "https://localhost:8080/"
        },
        "id": "Y5VN4BQuTY8Z",
        "outputId": "666bc330-621c-473b-ad43-30624f1dc7b0"
      },
      "execution_count": null,
      "outputs": [
        {
          "output_type": "stream",
          "name": "stdout",
          "text": [
            "Redirection\n"
          ]
        }
      ]
    },
    {
      "cell_type": "code",
      "source": [
        "point = (0.0)\n",
        "#point = (1,0)\n",
        "#point = (0,1)\n",
        "#point = (1,1)\n",
        "match point:\n",
        "   case(0,0):\n",
        "    print('원점 좌표')\n",
        "   case (x,0):\n",
        "    print(f'x축 위의 점이며 x의 값은{x}')\n",
        "   case (0,y):\n",
        "    print(f'y축 위의 점이며 y의 값은{y}')\n",
        "   case (x,y):\n",
        "    print(f'(x,y) = ({x},{y})')\n",
        "   case _:\n",
        "    print('오류: 2차원 좌표가 아님')"
      ],
      "metadata": {
        "colab": {
          "base_uri": "https://localhost:8080/",
          "height": 182
        },
        "id": "pkdGPaJvUUF8",
        "outputId": "8588ec4c-f1f1-4f85-d733-2c9912afac7b"
      },
      "execution_count": null,
      "outputs": [
        {
          "output_type": "error",
          "ename": "TypeError",
          "evalue": "'float' object is not callable",
          "traceback": [
            "\u001b[0;31m---------------------------------------------------------------------------\u001b[0m",
            "\u001b[0;31mTypeError\u001b[0m                                 Traceback (most recent call last)",
            "\u001b[0;32m/tmp/ipython-input-1365924553.py\u001b[0m in \u001b[0;36m<cell line: 0>\u001b[0;34m()\u001b[0m\n\u001b[1;32m     13\u001b[0m     \u001b[0mprint\u001b[0m\u001b[0;34m(\u001b[0m\u001b[0;34mf'(x,y) = ({x},{y})'\u001b[0m\u001b[0;34m)\u001b[0m\u001b[0;34m\u001b[0m\u001b[0;34m\u001b[0m\u001b[0m\n\u001b[1;32m     14\u001b[0m    \u001b[0mcase\u001b[0m \u001b[0m_\u001b[0m\u001b[0;34m:\u001b[0m\u001b[0;34m\u001b[0m\u001b[0;34m\u001b[0m\u001b[0m\n\u001b[0;32m---> 15\u001b[0;31m     \u001b[0mprint\u001b[0m\u001b[0;34m(\u001b[0m\u001b[0;34m'오류: 2차원 좌표가 아님'\u001b[0m\u001b[0;34m)\u001b[0m\u001b[0;34m\u001b[0m\u001b[0;34m\u001b[0m\u001b[0m\n\u001b[0m",
            "\u001b[0;31mTypeError\u001b[0m: 'float' object is not callable"
          ]
        }
      ]
    }
  ]
}