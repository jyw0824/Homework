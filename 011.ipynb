{
  "nbformat": 4,
  "nbformat_minor": 0,
  "metadata": {
    "colab": {
      "provenance": [],
      "authorship_tag": "ABX9TyPjbmd2unaRrhIXOizJ80Pu",
      "include_colab_link": true
    },
    "kernelspec": {
      "name": "python3",
      "display_name": "Python 3"
    },
    "language_info": {
      "name": "python"
    }
  },
  "cells": [
    {
      "cell_type": "markdown",
      "metadata": {
        "id": "view-in-github",
        "colab_type": "text"
      },
      "source": [
        "<a href=\"https://colab.research.google.com/github/jyw0824/Homework/blob/main/011.ipynb\" target=\"_parent\"><img src=\"https://colab.research.google.com/assets/colab-badge.svg\" alt=\"Open In Colab\"/></a>"
      ]
    },
    {
      "cell_type": "code",
      "execution_count": null,
      "metadata": {
        "colab": {
          "base_uri": "https://localhost:8080/"
        },
        "id": "g1qOgZY5LI1A",
        "outputId": "47876db5-f392-4deb-bb59-de309330c7a1"
      },
      "outputs": [
        {
          "output_type": "stream",
          "name": "stdout",
          "text": [
            "\n",
            "사용자가 입력한 값은 <> 입니다\n"
          ]
        }
      ],
      "source": [
        "userInput = input()\n",
        "print('사용자가 입력한 값은 <'+ userInput +'> 입니다' )"
      ]
    },
    {
      "cell_type": "code",
      "source": [
        "userInput = input('갑을 입력하세요')\n",
        "print('사용자가 입력한 값은 <' + userInput +'> 입니다')"
      ],
      "metadata": {
        "colab": {
          "base_uri": "https://localhost:8080/"
        },
        "id": "2wtxnhUrLYKP",
        "outputId": "922f00b4-8aa9-4add-c748-b0f054fd98fa"
      },
      "execution_count": null,
      "outputs": [
        {
          "output_type": "stream",
          "name": "stdout",
          "text": [
            "갑을 입력하세요\n",
            "사용자가 입력한 값은 <> 입니다\n"
          ]
        }
      ]
    }
  ]
}