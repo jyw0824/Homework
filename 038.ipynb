{
  "nbformat": 4,
  "nbformat_minor": 0,
  "metadata": {
    "colab": {
      "provenance": [],
      "authorship_tag": "ABX9TyOvrhouqg5AUhY08fDqDuMQ",
      "include_colab_link": true
    },
    "kernelspec": {
      "name": "python3",
      "display_name": "Python 3"
    },
    "language_info": {
      "name": "python"
    }
  },
  "cells": [
    {
      "cell_type": "markdown",
      "metadata": {
        "id": "view-in-github",
        "colab_type": "text"
      },
      "source": [
        "<a href=\"https://colab.research.google.com/github/jyw0824/Homework/blob/main/038.ipynb\" target=\"_parent\"><img src=\"https://colab.research.google.com/assets/colab-badge.svg\" alt=\"Open In Colab\"/></a>"
      ]
    },
    {
      "cell_type": "code",
      "source": [
        "def getPrime(x):\n",
        "  if x == 2:\n",
        "    return True\n",
        "  if x <=1 or x% 2 == 0:\n",
        "    return False\n",
        "\n",
        "  for i in range(3,int(x**(1/2))+1,2):\n",
        "    if x%i==0:\n",
        "      return False\n",
        "\n",
        "  else:\n",
        "    return True"
      ],
      "metadata": {
        "id": "40y4cdS3ujgI"
      },
      "execution_count": null,
      "outputs": []
    },
    {
      "cell_type": "code",
      "source": [
        "intList = [x for x in range(1,101)]\n",
        "ret = filter(getPrime,intList)\n",
        "for p in ret:\n",
        "  print(p,end='')"
      ],
      "metadata": {
        "colab": {
          "base_uri": "https://localhost:8080/"
        },
        "id": "xx4exr5ivHtO",
        "outputId": "53e27266-8b70-416b-f8fd-4406ea2e4c85"
      },
      "execution_count": null,
      "outputs": [
        {
          "output_type": "stream",
          "name": "stdout",
          "text": [
            "2357111317192329313741434753596167717379838997"
          ]
        }
      ]
    }
  ]
}