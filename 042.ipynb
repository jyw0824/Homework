{
  "nbformat": 4,
  "nbformat_minor": 0,
  "metadata": {
    "colab": {
      "provenance": [],
      "authorship_tag": "ABX9TyNpUosugHrmcQ2uxfht2amS",
      "include_colab_link": true
    },
    "kernelspec": {
      "name": "python3",
      "display_name": "Python 3"
    },
    "language_info": {
      "name": "python"
    }
  },
  "cells": [
    {
      "cell_type": "markdown",
      "metadata": {
        "id": "view-in-github",
        "colab_type": "text"
      },
      "source": [
        "<a href=\"https://colab.research.google.com/github/jyw0824/Homework/blob/main/042.ipynb\" target=\"_parent\"><img src=\"https://colab.research.google.com/assets/colab-badge.svg\" alt=\"Open In Colab\"/></a>"
      ]
    },
    {
      "cell_type": "code",
      "source": [
        "male = ['슈퍼맨','심봉사','로미오','이몽룡','마루치']\n",
        "female = ['원더우먼', '뺑덕어멈', '줄리엣', '성춘향' ,'아라치']\n",
        "coples = zip(male,female)\n",
        "for cople in coples:\n",
        "    print(cople)"
      ],
      "metadata": {
        "colab": {
          "base_uri": "https://localhost:8080/"
        },
        "id": "jM-TEKOXxq_l",
        "outputId": "1da53cfe-eb46-4ccb-c77e-fe1a6c81aebe"
      },
      "execution_count": null,
      "outputs": [
        {
          "output_type": "stream",
          "name": "stdout",
          "text": [
            "('슈퍼맨', '원더우먼')\n",
            "('심봉사', '뺑덕어멈')\n",
            "('로미오', '줄리엣')\n",
            "('이몽룡', '성춘향')\n",
            "('마루치', '아라치')\n"
          ]
        }
      ]
    },
    {
      "cell_type": "code",
      "source": [
        "male = ['슈퍼맨','심봉사','로미오']\n",
        "female = ['원더우먼', '뺑덕어멈', '줄리엣', '성춘향' ,'아라치']\n",
        "for cople in zip(male,female):\n",
        "    print(cople)"
      ],
      "metadata": {
        "colab": {
          "base_uri": "https://localhost:8080/"
        },
        "id": "b9U0wY6tyMNH",
        "outputId": "78d92c99-1a24-46b1-a16f-f64c5aecb0f0"
      },
      "execution_count": null,
      "outputs": [
        {
          "output_type": "stream",
          "name": "stdout",
          "text": [
            "('슈퍼맨', '원더우먼')\n",
            "('심봉사', '뺑덕어멈')\n",
            "('로미오', '줄리엣')\n"
          ]
        }
      ]
    },
    {
      "cell_type": "code",
      "source": [
        "male = ['슈퍼맨','심봉사','로미오']\n",
        "female = ['원더우먼', '뺑덕어멈', '줄리엣', '성춘향' ,'아라치']\n",
        "for cople in zip(male,female,strict=True):\n",
        "  print(cople)"
      ],
      "metadata": {
        "colab": {
          "base_uri": "https://localhost:8080/",
          "height": 255
        },
        "id": "rPm0X1TWyJZZ",
        "outputId": "38121848-6e7e-49db-f520-300867215712"
      },
      "execution_count": null,
      "outputs": [
        {
          "output_type": "stream",
          "name": "stdout",
          "text": [
            "('슈퍼맨', '원더우먼')\n",
            "('심봉사', '뺑덕어멈')\n",
            "('로미오', '줄리엣')\n"
          ]
        },
        {
          "output_type": "error",
          "ename": "ValueError",
          "evalue": "zip() argument 2 is longer than argument 1",
          "traceback": [
            "\u001b[0;31m---------------------------------------------------------------------------\u001b[0m",
            "\u001b[0;31mValueError\u001b[0m                                Traceback (most recent call last)",
            "\u001b[0;32m/tmp/ipython-input-2161580711.py\u001b[0m in \u001b[0;36m<cell line: 0>\u001b[0;34m()\u001b[0m\n\u001b[1;32m      1\u001b[0m \u001b[0mmale\u001b[0m \u001b[0;34m=\u001b[0m \u001b[0;34m[\u001b[0m\u001b[0;34m'슈퍼맨'\u001b[0m\u001b[0;34m,\u001b[0m\u001b[0;34m'심봉사'\u001b[0m\u001b[0;34m,\u001b[0m\u001b[0;34m'로미오'\u001b[0m\u001b[0;34m]\u001b[0m\u001b[0;34m\u001b[0m\u001b[0;34m\u001b[0m\u001b[0m\n\u001b[1;32m      2\u001b[0m \u001b[0mfemale\u001b[0m \u001b[0;34m=\u001b[0m \u001b[0;34m[\u001b[0m\u001b[0;34m'원더우먼'\u001b[0m\u001b[0;34m,\u001b[0m \u001b[0;34m'뺑덕어멈'\u001b[0m\u001b[0;34m,\u001b[0m \u001b[0;34m'줄리엣'\u001b[0m\u001b[0;34m,\u001b[0m \u001b[0;34m'성춘향'\u001b[0m \u001b[0;34m,\u001b[0m\u001b[0;34m'아라치'\u001b[0m\u001b[0;34m]\u001b[0m\u001b[0;34m\u001b[0m\u001b[0;34m\u001b[0m\u001b[0m\n\u001b[0;32m----> 3\u001b[0;31m \u001b[0;32mfor\u001b[0m \u001b[0mcople\u001b[0m \u001b[0;32min\u001b[0m \u001b[0mzip\u001b[0m\u001b[0;34m(\u001b[0m\u001b[0mmale\u001b[0m\u001b[0;34m,\u001b[0m\u001b[0mfemale\u001b[0m\u001b[0;34m,\u001b[0m\u001b[0mstrict\u001b[0m\u001b[0;34m=\u001b[0m\u001b[0;32mTrue\u001b[0m\u001b[0;34m)\u001b[0m\u001b[0;34m:\u001b[0m\u001b[0;34m\u001b[0m\u001b[0;34m\u001b[0m\u001b[0m\n\u001b[0m\u001b[1;32m      4\u001b[0m   \u001b[0mprint\u001b[0m\u001b[0;34m(\u001b[0m\u001b[0mcople\u001b[0m\u001b[0;34m)\u001b[0m\u001b[0;34m\u001b[0m\u001b[0;34m\u001b[0m\u001b[0m\n",
            "\u001b[0;31mValueError\u001b[0m: zip() argument 2 is longer than argument 1"
          ]
        }
      ]
    }
  ]
}