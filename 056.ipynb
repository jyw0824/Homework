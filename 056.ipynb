{
  "nbformat": 4,
  "nbformat_minor": 0,
  "metadata": {
    "colab": {
      "provenance": [],
      "authorship_tag": "ABX9TyN1amcCVd/fse30U5SgGt77",
      "include_colab_link": true
    },
    "kernelspec": {
      "name": "python3",
      "display_name": "Python 3"
    },
    "language_info": {
      "name": "python"
    }
  },
  "cells": [
    {
      "cell_type": "markdown",
      "metadata": {
        "id": "view-in-github",
        "colab_type": "text"
      },
      "source": [
        "<a href=\"https://colab.research.google.com/github/jyw0824/Homework/blob/main/056.ipynb\" target=\"_parent\"><img src=\"https://colab.research.google.com/assets/colab-badge.svg\" alt=\"Open In Colab\"/></a>"
      ]
    },
    {
      "cell_type": "code",
      "source": [
        "solarsys = ['태양','수성','금성','지구','화성','목성','토성','천왕성','해왕성']\n",
        "solarsys[3] = 'Earth'\n",
        "print(solarsys)"
      ],
      "metadata": {
        "colab": {
          "base_uri": "https://localhost:8080/"
        },
        "id": "awthzCJk9tbt",
        "outputId": "8298d8da-70e1-48b9-c8e5-1b5a4914acf7"
      },
      "execution_count": null,
      "outputs": [
        {
          "output_type": "stream",
          "name": "stdout",
          "text": [
            "['태양', '수성', '금성', 'Earth', '화성', '목성', '토성', '천왕성', '해왕성']\n"
          ]
        }
      ]
    },
    {
      "cell_type": "code",
      "source": [
        "from re import I\n",
        "solarsys_ko = ['태양','수성','금성','지구','화성','목성','토성','천왕성','해왕성']\n",
        "solarsys_en = ['Sun','Mercury','Venus','Earth','Mars','Jupiter','Saturn','Uranus','Naptune']\n",
        "\n",
        "\n",
        "for i in range(len(solarsys_ko)):\n",
        "    solarsys_ko[i] = solarsys_en[i]\n",
        "\n",
        "print(solarsys_ko)\n"
      ],
      "metadata": {
        "colab": {
          "base_uri": "https://localhost:8080/"
        },
        "id": "9eSyHgZu9thL",
        "outputId": "6a9cb89c-bbec-41d1-adb6-7629ad5e2f50"
      },
      "execution_count": null,
      "outputs": [
        {
          "output_type": "stream",
          "name": "stdout",
          "text": [
            "['Sun', 'Mercury', 'Venus', 'Earth', 'Mars', 'Jupiter', 'Saturn', 'Uranus', 'Naptune']\n"
          ]
        }
      ]
    }
  ]
}