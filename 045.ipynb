{
  "nbformat": 4,
  "nbformat_minor": 0,
  "metadata": {
    "colab": {
      "provenance": [],
      "authorship_tag": "ABX9TyMMkMRXv24fyk/B+SZRn9xI",
      "include_colab_link": true
    },
    "kernelspec": {
      "name": "python3",
      "display_name": "Python 3"
    },
    "language_info": {
      "name": "python"
    }
  },
  "cells": [
    {
      "cell_type": "markdown",
      "metadata": {
        "id": "view-in-github",
        "colab_type": "text"
      },
      "source": [
        "<a href=\"https://colab.research.google.com/github/jyw0824/Homework/blob/main/045.ipynb\" target=\"_parent\"><img src=\"https://colab.research.google.com/assets/colab-badge.svg\" alt=\"Open In Colab\"/></a>"
      ]
    },
    {
      "cell_type": "code",
      "source": [
        "listData = [1,2,3,4,5]"
      ],
      "metadata": {
        "id": "ZlBgA_og0Kgm"
      },
      "execution_count": null,
      "outputs": []
    },
    {
      "cell_type": "code",
      "source": [
        "tupleData = (1,2,3,4,5)"
      ],
      "metadata": {
        "id": "5O8dFlyV0Kj7"
      },
      "execution_count": null,
      "outputs": []
    },
    {
      "cell_type": "code",
      "source": [
        "strData1 = '010-1234-5678'\n",
        "strData2 = \"사랑해요 파이썬!\"\n",
        "strData3 = 'I love python!'"
      ],
      "metadata": {
        "id": "HXm4yqqL0Kny"
      },
      "execution_count": null,
      "outputs": []
    },
    {
      "cell_type": "code",
      "source": [
        "bstr = b'python!'"
      ],
      "metadata": {
        "id": "ixrAbyJM0Kr2"
      },
      "execution_count": null,
      "outputs": []
    }
  ]
}