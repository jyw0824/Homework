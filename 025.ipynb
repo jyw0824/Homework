{
  "nbformat": 4,
  "nbformat_minor": 0,
  "metadata": {
    "colab": {
      "provenance": [],
      "authorship_tag": "ABX9TyPkcTVmasOTCwkW8t56kkOt",
      "include_colab_link": true
    },
    "kernelspec": {
      "name": "python3",
      "display_name": "Python 3"
    },
    "language_info": {
      "name": "python"
    }
  },
  "cells": [
    {
      "cell_type": "markdown",
      "metadata": {
        "id": "view-in-github",
        "colab_type": "text"
      },
      "source": [
        "<a href=\"https://colab.research.google.com/github/jyw0824/Homework/blob/main/026.ipynb\" target=\"_parent\"><img src=\"https://colab.research.google.com/assets/colab-badge.svg\" alt=\"Open In Colab\"/></a>"
      ]
    },
    {
      "cell_type": "code",
      "source": [
        "bit1 = 0x61; bit2 = 0x62\n",
        "print(hex(bit1 & bit2))\n",
        "print(hex(bit1 | bit2))\n",
        "print(hex(bit1 ^ bit2))\n",
        "print(hex(bit1 << 1))\n",
        "print(hex(bit1 >> 1))\n"
      ],
      "metadata": {
        "colab": {
          "base_uri": "https://localhost:8080/"
        },
        "id": "KEzxKLgYeSNM",
        "outputId": "e31eb074-b90d-46c8-f1b0-384f6aa0d0e6"
      },
      "execution_count": null,
      "outputs": [
        {
          "output_type": "stream",
          "name": "stdout",
          "text": [
            "0x60\n",
            "0x63\n",
            "0x3\n",
            "0xc2\n",
            "0x30\n"
          ]
        }
      ]
    },
    {
      "cell_type": "code",
      "source": [
        "byte1 = 0x6b\n",
        "\n",
        "\n",
        "lower_4bit = byte1 & 0x0f\n",
        "\n",
        "\n",
        "upper_4bit = (byte1 >> 4) & 0x0f\n",
        "\n",
        "\n",
        "print(hex(lower_4bit))\n",
        "print(hex(upper_4bit))"
      ],
      "metadata": {
        "colab": {
          "base_uri": "https://localhost:8080/"
        },
        "id": "t7F3x_Xdeq7R",
        "outputId": "3551ba2a-1e8d-469d-ecc3-cb668b8502cb"
      },
      "execution_count": null,
      "outputs": [
        {
          "output_type": "stream",
          "name": "stdout",
          "text": [
            "0xb\n",
            "0x6\n"
          ]
        }
      ]
    }
  ]
}
