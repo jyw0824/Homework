{
  "nbformat": 4,
  "nbformat_minor": 0,
  "metadata": {
    "colab": {
      "provenance": [],
      "authorship_tag": "ABX9TyMJyLZB7I/mGwi86x5zjHR6",
      "include_colab_link": true
    },
    "kernelspec": {
      "name": "python3",
      "display_name": "Python 3"
    },
    "language_info": {
      "name": "python"
    }
  },
  "cells": [
    {
      "cell_type": "markdown",
      "metadata": {
        "id": "view-in-github",
        "colab_type": "text"
      },
      "source": [
        "<a href=\"https://colab.research.google.com/github/jyw0824/Homework/blob/main/034.ipynb\" target=\"_parent\"><img src=\"https://colab.research.google.com/assets/colab-badge.svg\" alt=\"Open In Colab\"/></a>"
      ]
    },
    {
      "cell_type": "code",
      "source": [
        "#<반복 가능 자료> 예시\n",
        "iterable1 = [1,2,3,4,5]\n",
        "iterable2 = ('a','b','c')\n",
        "iterable3 = 'I love python!'\n",
        "iterable6 = range(10)\n",
        "iterable4 = {97:'a',98:'b'}\n",
        "iterable5 = {'사과','배','오렌지'}"
      ],
      "metadata": {
        "id": "WRrS0QAcpWxQ"
      },
      "execution_count": null,
      "outputs": []
    }
  ]
}