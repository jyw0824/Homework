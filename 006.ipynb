{
  "nbformat": 4,
  "nbformat_minor": 0,
  "metadata": {
    "colab": {
      "provenance": [],
      "authorship_tag": "ABX9TyOoogRQqpohUKAz1XbehZty",
      "include_colab_link": true
    },
    "kernelspec": {
      "name": "python3",
      "display_name": "Python 3"
    },
    "language_info": {
      "name": "python"
    }
  },
  "cells": [
    {
      "cell_type": "markdown",
      "metadata": {
        "id": "view-in-github",
        "colab_type": "text"
      },
      "source": [
        "<a href=\"https://colab.research.google.com/github/jyw0824/Homework/blob/main/006.ipynb\" target=\"_parent\"><img src=\"https://colab.research.google.com/assets/colab-badge.svg\" alt=\"Open In Colab\"/></a>"
      ]
    },
    {
      "cell_type": "code",
      "execution_count": null,
      "metadata": {
        "id": "2atHlP5QWsl-"
      },
      "outputs": [],
      "source": [
        "intDate = 15        # 정수 데이터\n",
        "floatData = 2.5     # 실수 데이터\n",
        "complexData = 1+1j  # 복소수 데이터"
      ]
    },
    {
      "cell_type": "code",
      "source": [
        "isTrue = True\n",
        "isFalse = False"
      ],
      "metadata": {
        "id": "1z609Mn0la11"
      },
      "execution_count": null,
      "outputs": []
    },
    {
      "cell_type": "code",
      "source": [
        "setData = {1,2,3,4,5}"
      ],
      "metadata": {
        "id": "DjsBHAmvljqQ"
      },
      "execution_count": null,
      "outputs": []
    },
    {
      "cell_type": "code",
      "source": [
        "dictData = {0:False,1:True}"
      ],
      "metadata": {
        "id": "JreVMCyglqUb"
      },
      "execution_count": null,
      "outputs": []
    }
  ]
}