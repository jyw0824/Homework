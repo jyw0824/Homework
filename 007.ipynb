{
  "nbformat": 4,
  "nbformat_minor": 0,
  "metadata": {
    "colab": {
      "provenance": [],
      "include_colab_link": true
    },
    "kernelspec": {
      "name": "python3",
      "display_name": "Python 3"
    },
    "language_info": {
      "name": "python"
    }
  },
  "cells": [
    {
      "cell_type": "markdown",
      "metadata": {
        "id": "view-in-github",
        "colab_type": "text"
      },
      "source": [
        "<a href=\"https://colab.research.google.com/github/jyw0824/Homework/blob/main/007.ipynb\" target=\"_parent\"><img src=\"https://colab.research.google.com/assets/colab-badge.svg\" alt=\"Open In Colab\"/></a>"
      ]
    },
    {
      "cell_type": "code",
      "execution_count": null,
      "metadata": {
        "colab": {
          "base_uri": "https://localhost:8080/"
        },
        "id": "XfCFbxN5m8Fq",
        "outputId": "5872e7fc-d906-4fed-d7cb-59dfa2fc3dda"
      },
      "outputs": [
        {
          "output_type": "stream",
          "name": "stdout",
          "text": [
            "안녕하세요 파이썬!\n"
          ]
        }
      ],
      "source": [
        "print('안녕하세요 파이썬!')"
      ]
    },
    {
      "cell_type": "code",
      "source": [
        "hello = '안녕하세요 파이썬'\n",
        "print(hello)"
      ],
      "metadata": {
        "colab": {
          "base_uri": "https://localhost:8080/"
        },
        "id": "LwKKmDdUnCVL",
        "outputId": "7d2245dc-3378-4b93-c0ab-480445ef9081"
      },
      "execution_count": null,
      "outputs": [
        {
          "output_type": "stream",
          "name": "stdout",
          "text": [
            "안녕하세요 파이썬\n"
          ]
        }
      ]
    },
    {
      "cell_type": "code",
      "source": [
        "intData1 = 1\n",
        "intData2 = 2\n",
        "print(intData1+intData2)"
      ],
      "metadata": {
        "colab": {
          "base_uri": "https://localhost:8080/"
        },
        "id": "FUMTkVESnKq3",
        "outputId": "f2bcd408-edd7-4d76-d6cb-8f86245e3f5d"
      },
      "execution_count": null,
      "outputs": [
        {
          "output_type": "stream",
          "name": "stdout",
          "text": [
            "3\n"
          ]
        }
      ]
    },
    {
      "cell_type": "code",
      "source": [
        "name = '홍길동'\n",
        "phone = '010-1234-5678'\n",
        "print('이름:',name,'핸드폰:',phone)"
      ],
      "metadata": {
        "colab": {
          "base_uri": "https://localhost:8080/"
        },
        "id": "oOI1Kkf8ncYZ",
        "outputId": "93350997-5bb9-4008-abed-487ca15bda8c"
      },
      "execution_count": null,
      "outputs": [
        {
          "output_type": "stream",
          "name": "stdout",
          "text": [
            "이름: 홍길동 핸드폰: 010-1234-5678\n"
          ]
        }
      ]
    },
    {
      "cell_type": "code",
      "source": [
        "print('#',end='')\n",
        "print('#'*5)"
      ],
      "metadata": {
        "colab": {
          "base_uri": "https://localhost:8080/"
        },
        "id": "wAlVsFTFpb6R",
        "outputId": "1763f4c6-2389-4070-8f0a-15504cbe82f7"
      },
      "execution_count": null,
      "outputs": [
        {
          "output_type": "stream",
          "name": "stdout",
          "text": [
            "######\n"
          ]
        }
      ]
    },
    {
      "cell_type": "code",
      "source": [
        "print(name,phone,sep=';')"
      ],
      "metadata": {
        "colab": {
          "base_uri": "https://localhost:8080/"
        },
        "id": "kDWA4G6BpkWP",
        "outputId": "54338227-66c0-4cd4-d9e0-0accfa065b29"
      },
      "execution_count": null,
      "outputs": [
        {
          "output_type": "stream",
          "name": "stdout",
          "text": [
            "홍길동;010-1234-5678\n"
          ]
        }
      ]
    }
  ]
}