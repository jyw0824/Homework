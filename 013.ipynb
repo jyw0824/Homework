{
  "nbformat": 4,
  "nbformat_minor": 0,
  "metadata": {
    "colab": {
      "provenance": [],
      "authorship_tag": "ABX9TyNLkAiuE/qF4RYwUPID0RND",
      "include_colab_link": true
    },
    "kernelspec": {
      "name": "python3",
      "display_name": "Python 3"
    },
    "language_info": {
      "name": "python"
    }
  },
  "cells": [
    {
      "cell_type": "markdown",
      "metadata": {
        "id": "view-in-github",
        "colab_type": "text"
      },
      "source": [
        "<a href=\"https://colab.research.google.com/github/jyw0824/Homework/blob/main/013.ipynb\" target=\"_parent\"><img src=\"https://colab.research.google.com/assets/colab-badge.svg\" alt=\"Open In Colab\"/></a>"
      ]
    },
    {
      "cell_type": "code",
      "execution_count": null,
      "metadata": {
        "id": "r5f1nRt2Llyx"
      },
      "outputs": [],
      "source": [
        "val = None\n",
        "flag=True\n",
        "if flag:\n",
        "  val=[1,2,3,4,5,]\n",
        "else:\n",
        "  val = '안녕하세요 파이썬!'"
      ]
    }
  ]
}